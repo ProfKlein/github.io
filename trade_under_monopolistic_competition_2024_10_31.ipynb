{
  "cells": [
    {
      "cell_type": "markdown",
      "metadata": {
        "id": "view-in-github",
        "colab_type": "text"
      },
      "source": [
        "<a href=\"https://colab.research.google.com/github/ProfKlein/github.io/blob/main/trade_under_monopolistic_competition_2024_10_31.ipynb\" target=\"_parent\"><img src=\"https://colab.research.google.com/assets/colab-badge.svg\" alt=\"Open In Colab\"/></a>"
      ]
    },
    {
      "cell_type": "markdown",
      "metadata": {
        "id": "L1KsqvEYsw_s"
      },
      "source": [
        "# **Trade Under Monopolistic Competition: Numerical Models**"
      ]
    },
    {
      "cell_type": "markdown",
      "metadata": {
        "id": "aaEpfE0Vsw_u"
      },
      "source": [
        "## Importing Python libraries"
      ]
    },
    {
      "cell_type": "code",
      "execution_count": 1,
      "metadata": {
        "id": "o5HscjPfsw_u"
      },
      "outputs": [],
      "source": [
        "import numpy as np\n",
        "import pandas as pd\n",
        "import math\n",
        "from tabulate import tabulate"
      ]
    },
    {
      "cell_type": "markdown",
      "metadata": {
        "id": "btL2_AIesw_v"
      },
      "source": [
        "## One country"
      ]
    },
    {
      "cell_type": "markdown",
      "metadata": {
        "id": "0tSwwsqZsw_v"
      },
      "source": [
        "Parameters"
      ]
    },
    {
      "cell_type": "code",
      "execution_count": 2,
      "metadata": {
        "id": "NCw3X1j7sw_v"
      },
      "outputs": [],
      "source": [
        "# Cost\n",
        "\n",
        "marginal_cost = .2\n",
        "fixed_cost = 60\n",
        "\n",
        "# Market\n",
        "\n",
        "demand_elasticity = 1\n",
        "market_size = 1500"
      ]
    },
    {
      "cell_type": "markdown",
      "metadata": {
        "id": "680x0Yqbsw_w"
      },
      "source": [
        "Solution"
      ]
    },
    {
      "cell_type": "code",
      "execution_count": 5,
      "metadata": {
        "id": "krNp9VkDsw_w"
      },
      "outputs": [],
      "source": [
        "# Compute the solution\n",
        "\n",
        "n_solution = (market_size / (demand_elasticity * fixed_cost))**(1/2)\n",
        "competitors = math.floor(n_solution)\n",
        "market_share = 100 / competitors\n",
        "sales = market_size / competitors\n",
        "price = marginal_cost + (1 / (demand_elasticity * competitors))\n",
        "average_cost = marginal_cost + (competitors * fixed_cost / market_size)\n",
        "profit = (price - average_cost) * sales\n",
        "\n",
        "# Collect the solution in a dictionary\n",
        "\n",
        "results_mc1 = {'Solution for nr. of competitors (n)': n_solution, \"Competitors\": competitors,\n",
        "                'Market share (in %)': market_share, \"Sales\": sales,\n",
        "                'Price (P)': price, 'Average cost (AC)': average_cost, \"Profit\": profit}"
      ]
    },
    {
      "cell_type": "markdown",
      "metadata": {
        "id": "0gm9c5l9sw_w"
      },
      "source": [
        "Presentation"
      ]
    },
    {
      "cell_type": "code",
      "execution_count": 6,
      "metadata": {
        "colab": {
          "base_uri": "https://localhost:8080/"
        },
        "id": "PN_mUkpFsw_w",
        "outputId": "c3ae85fc-5baf-4a73-d464-ee2e91901487"
      },
      "outputs": [
        {
          "output_type": "stream",
          "name": "stdout",
          "text": [
            "| Variable                            |   Value |\n",
            "|-------------------------------------|---------|\n",
            "| Solution for nr. of competitors (n) |   5.000 |\n",
            "| Competitors                         |   5.000 |\n",
            "| Market share (in %)                 |  20.000 |\n",
            "| Sales                               | 300.000 |\n",
            "| Price (P)                           |   0.400 |\n",
            "| Average cost (AC)                   |   0.400 |\n",
            "| Profit                              |   0.000 |\n"
          ]
        }
      ],
      "source": [
        "# Print the solution dictionary as a table\n",
        "\n",
        "decimals = 3\n",
        "print(tabulate(results_mc1.items(), headers=[\"Variable\",\"Value\"], tablefmt=\"github\", floatfmt=f\".{decimals}f\"))"
      ]
    },
    {
      "cell_type": "markdown",
      "metadata": {
        "id": "poHlwZP1sw_x"
      },
      "source": [
        "## Several countries, free trade"
      ]
    },
    {
      "cell_type": "markdown",
      "metadata": {
        "id": "MZmcDWp3sw_x"
      },
      "source": [
        "Common parameters (assignments can be switched off by putting a # at the beginning of the line)"
      ]
    },
    {
      "cell_type": "code",
      "execution_count": 14,
      "metadata": {
        "id": "COfmTy10sw_y"
      },
      "outputs": [],
      "source": [
        "# Cost\n",
        "\n",
        "marginal_cost = .2\n",
        "fixed_cost = 60   # Exercise 15.a\n",
        "# fixed_cost = 40   # Exercise 15.c\n",
        "\n",
        "# Market\n",
        "\n",
        "demand_elasticity = 1\n",
        "fixed_cost = 40\n",
        "\n",
        "# Market\n",
        "\n",
        "demand_elasticity = 1"
      ]
    },
    {
      "cell_type": "markdown",
      "metadata": {
        "id": "eATyte-tsw_y"
      },
      "source": [
        "Parameters specific to countries (assignments can be switched off by putting a # at the beginning of the line)"
      ]
    },
    {
      "cell_type": "code",
      "execution_count": 18,
      "metadata": {
        "id": "xPDm-Atpsw_y"
      },
      "outputs": [],
      "source": [
        "market_sizes = {\"A\": 1500, \"B\": 6000}       # Exercise 15.a\n",
        "# market_sizes = {\"A\": 4000, \"B\": 4000, \"C\": 4000, \"D\": 4000}     # Exercise 15.c"
      ]
    },
    {
      "cell_type": "markdown",
      "metadata": {
        "id": "x-pIemHBsw_y"
      },
      "source": [
        "Solution"
      ]
    },
    {
      "cell_type": "code",
      "execution_count": 19,
      "metadata": {
        "id": "Q_fOLGylsw_y"
      },
      "outputs": [],
      "source": [
        "market_sizes_i= market_sizes | {\"Integrated market\": sum(market_sizes.values())}\n",
        "results_mc2 = {}\n",
        "for c, s in market_sizes_i.items():\n",
        "    results_mc2[c] = {\n",
        "        \"Market size (S)\": s,\n",
        "        \"Solution for nr. of competitors (n)\": (n_solution := (s / (demand_elasticity * fixed_cost))**(1/2)),\n",
        "        \"Competitors\": (competitors := math.floor(n_solution)),\n",
        "        \"Market share (in %)\": 100 / competitors,\n",
        "        \"Sales\": (sales := s / competitors),\n",
        "        \"Price (P)\": (price := marginal_cost + (1 / (demand_elasticity * competitors))),\n",
        "        \"Average cost (AC)\": (average_cost := marginal_cost + (competitors * fixed_cost / s)),\n",
        "        \"Profit\": (price - average_cost) * sales}\n",
        "results_mc2_df = pd.DataFrame(results_mc2)"
      ]
    },
    {
      "cell_type": "markdown",
      "metadata": {
        "id": "xKPdeobwsw_z"
      },
      "source": [
        "Presentation (it's good to start with more decimals; if they are not needed, they can be reduced)"
      ]
    },
    {
      "cell_type": "code",
      "execution_count": 20,
      "metadata": {
        "colab": {
          "base_uri": "https://localhost:8080/"
        },
        "id": "JcHsi9gzsw_z",
        "outputId": "bddabf01-08c7-44f3-e5e0-9d922fb5bf21"
      },
      "outputs": [
        {
          "output_type": "stream",
          "name": "stdout",
          "text": [
            "|                                     |        A |        B |   Integrated market |\n",
            "|-------------------------------------|----------|----------|---------------------|\n",
            "| Market size (S)                     | 1500.000 | 6000.000 |            7500.000 |\n",
            "| Solution for nr. of competitors (n) |    6.124 |   12.247 |              13.693 |\n",
            "| Competitors                         |    6.000 |   12.000 |              13.000 |\n",
            "| Market share (in %)                 |   16.667 |    8.333 |               7.692 |\n",
            "| Sales                               |  250.000 |  500.000 |             576.923 |\n",
            "| Price (P)                           |    0.367 |    0.283 |               0.277 |\n",
            "| Average cost (AC)                   |    0.360 |    0.280 |               0.269 |\n",
            "| Profit                              |    1.667 |    1.667 |               4.379 |\n"
          ]
        }
      ],
      "source": [
        "# Print the results dictionary as a table\n",
        "\n",
        "decimals = 3\n",
        "print(tabulate(results_mc2_df, headers=results_mc2_df.columns, tablefmt=\"github\", floatfmt=f\".{decimals}f\"))"
      ]
    }
  ],
  "metadata": {
    "kernelspec": {
      "display_name": "Python 3",
      "language": "python",
      "name": "python3"
    },
    "language_info": {
      "codemirror_mode": {
        "name": "ipython",
        "version": 3
      },
      "file_extension": ".py",
      "mimetype": "text/x-python",
      "name": "python",
      "nbconvert_exporter": "python",
      "pygments_lexer": "ipython3",
      "version": "3.11.1"
    },
    "colab": {
      "provenance": [],
      "include_colab_link": true
    }
  },
  "nbformat": 4,
  "nbformat_minor": 0
}